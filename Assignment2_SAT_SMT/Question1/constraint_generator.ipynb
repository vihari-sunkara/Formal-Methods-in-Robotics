{
 "cells": [
  {
   "cell_type": "code",
   "execution_count": 1,
   "metadata": {},
   "outputs": [],
   "source": [
    "import os"
   ]
  },
  {
   "cell_type": "code",
   "execution_count": 2,
   "metadata": {},
   "outputs": [],
   "source": [
    "R = 2\n",
    "N = 5\n",
    "G = 6\n",
    "r1 = 0\n",
    "r2 = 1\n",
    "obs = {(2,0),(3,0),(1,2),(3,2),(1,4),(2,4)}\n",
    "x0_init = 0\n",
    "y0_init = 0\n",
    "x1_init = 4\n",
    "y1_init = 4\n",
    "x1_final = 0\n",
    "y1_final = 0\n",
    "x0_final = 4\n",
    "y0_final = 4\n",
    "# L=8#satisfiable value\n",
    "L=8"
   ]
  },
  {
   "cell_type": "code",
   "execution_count": 3,
   "metadata": {},
   "outputs": [],
   "source": [
    "def dimacs(t,r,x,y):\n",
    "    return t*R*(N**2) + r*(N**2) + x*N + y + 1"
   ]
  },
  {
   "cell_type": "code",
   "execution_count": 4,
   "metadata": {},
   "outputs": [],
   "source": [
    "def initConstraints(t,r,x,y):\n",
    "    if(r==0 and x==x0_init and y==y0_init) or (r==1 and x==x1_init and y==y1_init):\n",
    "        return dimacs(0,r,x,y)\n",
    "    else:\n",
    "        return -1*dimacs(0,r,x,y)"
   ]
  },
  {
   "cell_type": "code",
   "execution_count": 5,
   "metadata": {},
   "outputs": [],
   "source": [
    "def finalConstraints(L,r,x,y):\n",
    "    if(r==0 and x==x0_final and y==y0_final) or (r==1 and x==x1_final and y==y1_final):\n",
    "        return dimacs(L,r,x,y)\n",
    "    else:\n",
    "        return -1*dimacs(L,r,x,y)"
   ]
  },
  {
   "cell_type": "code",
   "execution_count": 6,
   "metadata": {},
   "outputs": [],
   "source": [
    "def motionPrimitives(t,r,x,y):\n",
    "    if x==0:\n",
    "        if y==0:\n",
    "            return (-1*dimacs(t+1,r,x,y),dimacs(t,r,x,y),dimacs(t,r,x+1,y),dimacs(t,r,x,y+1),-1.5,-1.5)\n",
    "        elif y<N-1:\n",
    "            return (-1*dimacs(t+1,r,x,y),dimacs(t,r,x,y),dimacs(t,r,x+1,y),dimacs(t,r,x,y+1),dimacs(t,r,x,y-1),-1.5)\n",
    "        elif y==N-1:\n",
    "            return (-1*dimacs(t+1,r,x,y),dimacs(t,r,x,y),dimacs(t,r,x+1,y),dimacs(t,r,x,y-1),-1.5,-1.5)\n",
    "    elif y==0:\n",
    "        if x<N-1:\n",
    "            return (-1*dimacs(t+1,r,x,y),dimacs(t,r,x,y),dimacs(t,r,x-1,y),dimacs(t,r,x+1,y),dimacs(t,r,x,y+1),-1.5)\n",
    "        elif x==N-1:\n",
    "            return (-1*dimacs(t+1,r,x,y),dimacs(t,r,x,y),dimacs(t,r,x,y+1),dimacs(t,r,x-1,y),-1.5,-1.5)\n",
    "    elif x==N-1:\n",
    "        if y<N-1:\n",
    "            return (-1*dimacs(t+1,r,x,y),dimacs(t,r,x,y),dimacs(t,r,x-1,y),dimacs(t,r,x,y+1),dimacs(t,r,x,y-1),-1.5)\n",
    "        elif y==N-1:\n",
    "            return (-1*dimacs(t+1,r,x,y),dimacs(t,r,x,y),dimacs(t,r,x,y-1),dimacs(t,r,x-1,y),-1.5,-1.5)\n",
    "    elif y==N-1:\n",
    "        return (-1*dimacs(t+1,r,x,y),dimacs(t,r,x,y),dimacs(t,r,x,y-1),dimacs(t,r,x+1,y),dimacs(t,r,x-1,y),-1.5)\n",
    "    else:\n",
    "        return (-1*dimacs(t+1,r,x,y),dimacs(t,r,x,y),dimacs(t,r,x+1,y),dimacs(t,r,x,y+1),dimacs(t,r,x-1,y),dimacs(t,r,x,y-1))"
   ]
  },
  {
   "cell_type": "code",
   "execution_count": 7,
   "metadata": {},
   "outputs": [],
   "source": [
    "def obstacleAvoidance(t,r,x,y):\n",
    "    return -1 * dimacs(t,r,x,y)"
   ]
  },
  {
   "cell_type": "code",
   "execution_count": 8,
   "metadata": {},
   "outputs": [],
   "source": [
    "def sameSpaceCollisionAvoidance(t,x,y):\n",
    "    return (-1 * dimacs(t,r1,x,y), -1 * dimacs(t,r2,x,y))"
   ]
  },
  {
   "cell_type": "code",
   "execution_count": 9,
   "metadata": {},
   "outputs": [],
   "source": [
    "def hoizontal_headOnCollisionAvoidance(t,x,y):\n",
    "    return (-1 * dimacs(t,r1,x,y), -1 * dimacs(t,r2,x+1,y), \n",
    "                          -1 * dimacs(t+1,r1,x+1,y), -1 * dimacs(t+1, r2, x, y))"
   ]
  },
  {
   "cell_type": "code",
   "execution_count": 10,
   "metadata": {},
   "outputs": [],
   "source": [
    "def vertical_headOnCollisionAvoidance(t,x,y):\n",
    "    return (-1 * dimacs(t,r1,x,y), -1 * dimacs(t,r2,x,y+1), \n",
    "                          -1 * dimacs(t+1,r1,x,y+1), -1 * dimacs(t+1, r2, x, y))"
   ]
  },
  {
   "cell_type": "code",
   "execution_count": 11,
   "metadata": {},
   "outputs": [],
   "source": [
    "#Generate init and final constraints\n",
    "def generate_init_constraints(L):\n",
    "    infile = open(\"in.txt\",\"w+\")\n",
    "    a='0'\n",
    "\n",
    "    for x in range(N):\n",
    "        for y in range(N):\n",
    "            for r in range(R):             \n",
    "                a = str(initConstraints(0,r,x,y))\n",
    "                a = a + ' ' + '0' + '\\n'\n",
    "                infile.write(a)\n",
    "                a = str(finalConstraints(L,r,x,y))\n",
    "                a = a + ' ' + '0' + '\\n'\n",
    "                infile.write(a)\n",
    "\n",
    "\n",
    "\n",
    "    infile.close() "
   ]
  },
  {
   "cell_type": "code",
   "execution_count": 12,
   "metadata": {},
   "outputs": [],
   "source": [
    "#Generate motion primitives\n",
    "def generate_final_constraints(L):\n",
    "    infile = open(\"in.txt\",\"a+\")\n",
    "    a=''\n",
    "\n",
    "    for x in range(N):\n",
    "        for y in range(N):\n",
    "            for r in range(R):   \n",
    "                for t in range(L):\n",
    "                    (l1,l2,l3,l4,l5,l6) = motionPrimitives(t,r,x,y)\n",
    "                    if l5==-1.5:\n",
    "                        a = str(l1) + ' ' + str(l2) + ' ' + str(l3) + ' ' + str(l4) + ' '+ '0' + '\\n'\n",
    "                    elif l6==-1.5:\n",
    "                        a = str(l1) + ' ' + str(l2) + ' ' + str(l3) + ' ' + str(l4) + ' ' + str(l5) + ' ' + '0' + '\\n'\n",
    "                    else:\n",
    "                        a = str(l1) + ' ' + str(l2) + ' ' + str(l3) + ' ' + str(l4) + ' ' + str(l5) + ' ' + str(l6)+ ' '+ '0' + '\\n'\n",
    "                    infile.write(a)           \n",
    "    infile.close() "
   ]
  },
  {
   "cell_type": "code",
   "execution_count": 13,
   "metadata": {},
   "outputs": [],
   "source": [
    "#Generate Obstacle avoidance constraints\n",
    "def generate_obstacle_constraints(L):\n",
    "    infile = open(\"in.txt\",\"a+\")\n",
    "    a=''\n",
    "\n",
    "\n",
    "    for r in range(R):   \n",
    "        for t in range(L+1):\n",
    "            for (x,y) in obs:\n",
    "                a = str(obstacleAvoidance(t,r,x,y))\n",
    "                a = a + ' ' + '0' + '\\n'\n",
    "                infile.write(a)\n",
    "\n",
    "\n",
    "\n",
    "    infile.close() "
   ]
  },
  {
   "cell_type": "code",
   "execution_count": 14,
   "metadata": {},
   "outputs": [],
   "source": [
    "#Generate same space collision avoidance constraints\n",
    "def generate_same_space_collision_constraints(L):\n",
    "    infile = open(\"in.txt\",\"a+\")\n",
    "    a=''\n",
    "\n",
    "    for x in range(N):\n",
    "        for y in range(N):  \n",
    "            for t in range(L+1):\n",
    "                l1,l2 = sameSpaceCollisionAvoidance(t,x,y)\n",
    "                a = str(l1) + ' ' + str(l2) + ' ' + '0' + '\\n'\n",
    "                infile.write(a)\n",
    "\n",
    "    infile.close() "
   ]
  },
  {
   "cell_type": "code",
   "execution_count": 15,
   "metadata": {},
   "outputs": [],
   "source": [
    "#Generate horizontal head on collision avoidance constraints\n",
    "def generate_horizontal_headon_collision_constraints(L):\n",
    "    infile = open(\"in.txt\",\"a+\")\n",
    "    a=''\n",
    "\n",
    "    for x in range(N-1):\n",
    "        for y in range(N):  \n",
    "            for t in range(L):\n",
    "                l1,l2,l3,l4 = hoizontal_headOnCollisionAvoidance(t,x,y)\n",
    "                a = str(l1) + ' ' + str(l2) + ' ' + str(l3) + ' ' + str(l4) + ' ' +'0' + '\\n'\n",
    "                infile.write(a)\n",
    "\n",
    "    infile.close() "
   ]
  },
  {
   "cell_type": "code",
   "execution_count": 16,
   "metadata": {},
   "outputs": [],
   "source": [
    "#Generate vertical head on collision avoidance constraints\n",
    "def generate_vertical_headon_collision_constraints(L):\n",
    "    infile = open(\"in.txt\",\"a+\")\n",
    "    a=''\n",
    "\n",
    "    for x in range(N):\n",
    "        for y in range(N-1):  \n",
    "            for t in range(L):\n",
    "                l1,l2,l3,l4 = vertical_headOnCollisionAvoidance(t,x,y)\n",
    "                a = str(l1) + ' ' + str(l2) + ' ' + str(l3) + ' ' + str(l4) + ' ' +'0' + '\\n'\n",
    "                infile.write(a)\n",
    "\n",
    "    infile.close() "
   ]
  },
  {
   "cell_type": "code",
   "execution_count": 17,
   "metadata": {},
   "outputs": [],
   "source": [
    "def file_len(fname):\n",
    "    with open(fname) as f:\n",
    "        for i, l in enumerate(f):\n",
    "            pass\n",
    "        f.close()\n",
    "    return i + 1"
   ]
  },
  {
   "cell_type": "code",
   "execution_count": 18,
   "metadata": {},
   "outputs": [],
   "source": [
    "def generateConstraints(L):\n",
    "    generate_init_constraints(L)\n",
    "    generate_final_constraints(L)\n",
    "    generate_obstacle_constraints(L)\n",
    "    generate_same_space_collision_constraints(L)\n",
    "    generate_horizontal_headon_collision_constraints(L)\n",
    "    generate_vertical_headon_collision_constraints(L)"
   ]
  },
  {
   "cell_type": "code",
   "execution_count": 19,
   "metadata": {},
   "outputs": [],
   "source": [
    "def copyContent(variable_count,clause_count):\n",
    "    f = open(\"in.txt\")\n",
    "    f1 = open(\"infile.txt\", \"w\")\n",
    "    f1.write('p cnf '+str(variable_count) + ' ' + str(clause_count) + '\\n')\n",
    "    for line in f:\n",
    "        f1.write(line)\n",
    "    f.close()\n",
    "    f1.close()"
   ]
  },
  {
   "cell_type": "code",
   "execution_count": 20,
   "metadata": {},
   "outputs": [],
   "source": [
    "# status = 0\n",
    "def findOptimalMakeSpan():\n",
    "    variable_count = 0\n",
    "    clause_count = 0\n",
    "    loop_break = 0\n",
    "    for P in range(100):\n",
    "        generateConstraints(P)\n",
    "        len = file_len(\"in.txt\")\n",
    "        variable_count = 50 * (P+1)\n",
    "        clause_count = len\n",
    "        copyContent(variable_count,clause_count)\n",
    "        status = os.system('minisat infile.txt out.txt')\n",
    "        if status==10:\n",
    "            loop_break = 1\n",
    "            break\n",
    "#     f.close()\n",
    "#     f1.close()\n",
    "    if loop_break == 1:\n",
    "        print(\"final P value: \", P)"
   ]
  },
  {
   "cell_type": "code",
   "execution_count": 21,
   "metadata": {},
   "outputs": [
    {
     "name": "stdout",
     "output_type": "stream",
     "text": [
      "final P value:  8\n"
     ]
    }
   ],
   "source": [
    "findOptimalMakeSpan()"
   ]
  },
  {
   "cell_type": "code",
   "execution_count": 22,
   "metadata": {},
   "outputs": [],
   "source": [
    "with open('out.txt', 'r') as fin:\n",
    "    data = fin.read().splitlines(True)\n",
    "with open('out.txt', 'w') as fout:\n",
    "    fout.writelines(data[1:])\n",
    "fin.close()\n",
    "fout.close()"
   ]
  },
  {
   "cell_type": "code",
   "execution_count": 23,
   "metadata": {},
   "outputs": [],
   "source": [
    "all_lines = []\n",
    "with open(\"out.txt\", 'r') as fobj:\n",
    "    for line in fobj:\n",
    "        for num in line.split():\n",
    "            all_lines.append(int(num))"
   ]
  },
  {
   "cell_type": "code",
   "execution_count": 24,
   "metadata": {},
   "outputs": [],
   "source": [
    "pos_values = []\n",
    "for i in all_lines:\n",
    "    if i>0:\n",
    "        pos_values.append(i)"
   ]
  },
  {
   "cell_type": "code",
   "execution_count": 25,
   "metadata": {},
   "outputs": [
    {
     "name": "stdout",
     "output_type": "stream",
     "text": [
      "t: 0 r: 0 x: 0 y: 0 ind: 1\n",
      "t: 0 r: 1 x: 4 y: 4 ind: 2\n",
      "t: 1 r: 0 x: 0 y: 1 ind: 3\n",
      "t: 1 r: 1 x: 3 y: 4 ind: 4\n",
      "t: 2 r: 0 x: 1 y: 1 ind: 5\n",
      "t: 2 r: 1 x: 3 y: 3 ind: 6\n",
      "t: 3 r: 0 x: 2 y: 1 ind: 7\n",
      "t: 3 r: 1 x: 2 y: 3 ind: 8\n",
      "t: 4 r: 0 x: 2 y: 2 ind: 9\n",
      "t: 4 r: 1 x: 1 y: 3 ind: 10\n",
      "t: 5 r: 0 x: 2 y: 3 ind: 11\n",
      "t: 5 r: 1 x: 0 y: 3 ind: 12\n",
      "t: 6 r: 0 x: 3 y: 3 ind: 13\n",
      "t: 6 r: 1 x: 0 y: 2 ind: 14\n",
      "t: 7 r: 0 x: 3 y: 4 ind: 15\n",
      "t: 7 r: 1 x: 0 y: 1 ind: 16\n",
      "t: 8 r: 0 x: 4 y: 4 ind: 17\n",
      "t: 8 r: 1 x: 0 y: 0 ind: 18\n"
     ]
    }
   ],
   "source": [
    "index = 0\n",
    "loop_break = 0\n",
    "for t in range(L+1):\n",
    "    for r in range(R):\n",
    "        for x in range(N):\n",
    "            for y in range(N):\n",
    "                if dimacs(t,r,x,y)==pos_values[index]:\n",
    "                    index = index+1\n",
    "                    print(\"t: \"+str(t)+\" r: \"+str(r)+\" x: \"+str(x)+\" y: \"+str(y)+\" ind: \"+str(index))\n",
    "                    loop_break = 1\n",
    "                    break\n",
    "            if loop_break==1:\n",
    "                loop_break = 0\n",
    "                break"
   ]
  },
  {
   "cell_type": "code",
   "execution_count": null,
   "metadata": {},
   "outputs": [],
   "source": []
  }
 ],
 "metadata": {
  "kernelspec": {
   "display_name": "Python 3",
   "language": "python",
   "name": "python3"
  },
  "language_info": {
   "codemirror_mode": {
    "name": "ipython",
    "version": 3
   },
   "file_extension": ".py",
   "mimetype": "text/x-python",
   "name": "python",
   "nbconvert_exporter": "python",
   "pygments_lexer": "ipython3",
   "version": "3.7.4"
  }
 },
 "nbformat": 4,
 "nbformat_minor": 2
}
